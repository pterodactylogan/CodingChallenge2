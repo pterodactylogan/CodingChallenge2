{
 "cells": [
  {
   "cell_type": "code",
   "execution_count": 1,
   "metadata": {
    "collapsed": true
   },
   "outputs": [],
   "source": [
    "def iterative_wrapper(str1,str2):\n",
    "\t'''returns the shortest string such that both str1 and str2 are substrings'''\n",
    "    #check both directions\n",
    "\tforward=iterative_splicing(str1,str2)\n",
    "\treverse=iterative_splicing(str2,str1)\n",
    "\t\n",
    "\tif len(forward)<len(reverse): \n",
    "\t\tprint_out(forward, str1, str2)\n",
    "\t\treturn forward\n",
    "\telse: \n",
    "\t\tprint_out(reverse, str1, str2)\n",
    "\t\treturn reverse\n",
    "    \n",
    "\n",
    "def iterative_splicing(str1, str2):\n",
    "\t'''takes two strings and returns the string resulting from their maximum amount of overlap'''\n",
    "    #if str1 is already a substring of str2, DONE\n",
    "\tif str1 in str2: return str2\n",
    "\tstring = str1\n",
    "\twhile len(string)>0:\n",
    "        #overlap found\n",
    "\t\tif string==str2[0:len(string)]:\n",
    "\t\t\tstr1=str1.replace(string, \"\",1)\n",
    "\t\t\treturn str1 + str2\n",
    "\t\tstring = string[1:]\n",
    "    #no overlap found--just conjoin\n",
    "\treturn str1+str2"
   ]
  },
  {
   "cell_type": "code",
   "execution_count": 2,
   "metadata": {
    "collapsed": true
   },
   "outputs": [],
   "source": [
    "def recursive_wrapper(gene1, gene2):\n",
    "    '''wrapper for genesplicer that cuts strings down to matching lengths'''\n",
    "    #if one is already a substring of the other, DONE\n",
    "    if gene1 in gene2: \n",
    "        print_out(gene2, gene1, gene2)\n",
    "        return gene2\n",
    "    if gene2 in gene1: \n",
    "        print_out(gene1, gene1, gene2)\n",
    "        return gene1\n",
    "    \n",
    "    #clean up strings so they are same length\n",
    "    if len(gene1)==len(gene2): \n",
    "        forward= recursive_splicing(gene1,gene2)\n",
    "        reverse=recursive_splicing(gene2,gene1)\n",
    "    elif len(gene1)>len(gene2):\n",
    "        forward=gene1[:-len(gene2)]+recursive_splicing(gene1[-len(gene2):],gene2)\n",
    "        reverse=recursive_splicing(gene2,gene1[:len(gene2)])+gene1[len(gene2):]\n",
    "    else:\n",
    "        forward=recursive_splicing(gene1,gene2[:len(gene1)])+gene2[len(gene1):]\n",
    "        reverse=gene2[:-len(gene1)]+recursive_splicing(gene2[-len(gene1):],gene1)\n",
    "      \n",
    "    #select shortest result\n",
    "    if len(forward)<len(reverse): \n",
    "        print_out(forward, gene1, gene2)\n",
    "        return forward\n",
    "    else: \n",
    "        print_out(reverse, gene1, gene2)\n",
    "        return reverse\n",
    "    \n",
    "def recursive_splicing(gene1, gene2):\n",
    "    '''takes two strings of the same length and returns the splicing'''\n",
    "    #base case: complete overlap\n",
    "    if gene1==gene2: return gene1\n",
    "    #base case: reached end of string\n",
    "    if len(gene1)<=1: return gene1+gene2\n",
    "    #recursive case: chop end character off each string and recurse\n",
    "    else:\n",
    "        return gene1[0] + recursive_splicing(gene1[1:],gene2[:-1]) + gene2[-1]"
   ]
  },
  {
   "cell_type": "code",
   "execution_count": null,
   "metadata": {
    "collapsed": true
   },
   "outputs": [],
   "source": [
    "a1=\"TAG\"\n",
    "a2=\"GCAT\"\n",
    "b1=\"TGACCCTT\"\n",
    "b2=\"ACC\"\n",
    "c1=\"\""
   ]
  }
 ],
 "metadata": {
  "kernelspec": {
   "display_name": "Python 3",
   "language": "python",
   "name": "python3"
  },
  "language_info": {
   "codemirror_mode": {
    "name": "ipython",
    "version": 3
   },
   "file_extension": ".py",
   "mimetype": "text/x-python",
   "name": "python",
   "nbconvert_exporter": "python",
   "pygments_lexer": "ipython3",
   "version": "3.6.2"
  }
 },
 "nbformat": 4,
 "nbformat_minor": 1
}
