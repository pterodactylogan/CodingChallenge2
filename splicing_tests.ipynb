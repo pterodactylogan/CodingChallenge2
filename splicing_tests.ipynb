{
 "cells": [
  {
   "cell_type": "code",
   "execution_count": 48,
   "metadata": {
    "collapsed": true
   },
   "outputs": [],
   "source": [
    "def iterative_wrapper(str1,str2):\n",
    "    forward=geneSplicing(str1,str2)\n",
    "    reverse=geneSplicing(str2,str1)\n",
    "    \n",
    "    if len(forward)<len(reverse): return forward\n",
    "    else: return reverse\n",
    "    \n",
    "\n",
    "def geneSplicing(str1, str2):\n",
    "    string = str1\n",
    "    while len(string)>0:\n",
    "        if string==str2[0:len(string)]:\n",
    "            str1=str1.replace(string, \"\")\n",
    "            return str1 + str2\n",
    "            break\n",
    "        string = string[1:]\n",
    "    return str1+str2\n",
    "        \n",
    "def wrapper(gene1, gene2):\n",
    "    '''wrapper for genesplicer that cuts strings down to matching lengths'''\n",
    "    if len(gene1)==len(gene2): return recursive_splicing(gene1,gene2)\n",
    "    elif len(gene1)>len(gene2):\n",
    "        forward=gene1[:-len(gene2)]+recursive_splicing(gene1[-len(gene2):],gene2)\n",
    "        reverse=recursive_splicing(gene2,gene1[:len(gene2)])+gene1[len(gene2):]\n",
    "    else:\n",
    "        forward=recursive_splicing(gene1,gene2[:len(gene1)])+gene2[len(gene1):]\n",
    "        reverse=gene2[:-len(gene1)]+recursive_splicing(gene2[-len(gene1):],gene1)\n",
    "        \n",
    "    if len(forward)<len(reverse): return forward\n",
    "    else: return reverse\n",
    "\n",
    "\n",
    "def recursive_splicing(gene1, gene2):\n",
    "    '''takes two strings of the same length and returns the splicing'''\n",
    "    if gene1==gene2: return gene1\n",
    "    if len(gene1)<=1: return gene1+gene2\n",
    "    else:\n",
    "        return gene1[0] + recursive_splicing(gene1[1:],gene2[:-1]) + gene2[-1]"
   ]
  },
  {
   "cell_type": "code",
   "execution_count": 49,
   "metadata": {},
   "outputs": [],
   "source": [
    "gene1=\"AACCTGT\"\n",
    "gene2=\"CTGTACG\""
   ]
  },
  {
   "cell_type": "code",
   "execution_count": 54,
   "metadata": {},
   "outputs": [
    {
     "name": "stdout",
     "output_type": "stream",
     "text": [
      "CPU times: user 77.9 ms, sys: 2.61 ms, total: 80.5 ms\n",
      "Wall time: 81.3 ms\n"
     ]
    }
   ],
   "source": [
    "%%time\n",
    "    for i in range(10000):\n",
    "        iterative_wrapper(gene1,gene2)"
   ]
  },
  {
   "cell_type": "code",
   "execution_count": 55,
   "metadata": {},
   "outputs": [
    {
     "name": "stdout",
     "output_type": "stream",
     "text": [
      "CPU times: user 39.3 ms, sys: 1.88 ms, total: 41.2 ms\n",
      "Wall time: 40.9 ms\n"
     ]
    }
   ],
   "source": [
    "%%time\n",
    "    for i in range(10000):\n",
    "        wrapper(gene1,gene2)"
   ]
  },
  {
   "cell_type": "code",
   "execution_count": 56,
   "metadata": {
    "collapsed": true
   },
   "outputs": [],
   "source": [
    "gene1=\"AACCTGT\"\n",
    "gene2=\"GCTGTACGA\""
   ]
  },
  {
   "cell_type": "code",
   "execution_count": 59,
   "metadata": {},
   "outputs": [
    {
     "name": "stdout",
     "output_type": "stream",
     "text": [
      "CPU times: user 90.7 ms, sys: 1.67 ms, total: 92.3 ms\n",
      "Wall time: 91.8 ms\n"
     ]
    }
   ],
   "source": [
    "%%time\n",
    "for i in range(10000):\n",
    "    iterative_wrapper(gene1,gene2)"
   ]
  },
  {
   "cell_type": "code",
   "execution_count": 60,
   "metadata": {},
   "outputs": [
    {
     "name": "stdout",
     "output_type": "stream",
     "text": [
      "CPU times: user 137 ms, sys: 2.49 ms, total: 140 ms\n",
      "Wall time: 140 ms\n"
     ]
    }
   ],
   "source": [
    "%%time\n",
    "for i in range(10000):\n",
    "    wrapper(gene1,gene2)"
   ]
  },
  {
   "cell_type": "code",
   "execution_count": null,
   "metadata": {
    "collapsed": true
   },
   "outputs": [],
   "source": []
  }
 ],
 "metadata": {
  "kernelspec": {
   "display_name": "Python 3",
   "language": "python",
   "name": "python3"
  },
  "language_info": {
   "codemirror_mode": {
    "name": "ipython",
    "version": 3
   },
   "file_extension": ".py",
   "mimetype": "text/x-python",
   "name": "python",
   "nbconvert_exporter": "python",
   "pygments_lexer": "ipython3",
   "version": "3.6.2"
  }
 },
 "nbformat": 4,
 "nbformat_minor": 2
}
