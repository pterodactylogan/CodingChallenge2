{
 "cells": [
  {
   "cell_type": "code",
   "execution_count": 14,
   "metadata": {
    "collapsed": false
   },
   "outputs": [
    {
     "name": "stdout",
     "output_type": "stream",
     "text": [
      " GCTGTACGAGTA\n"
     ]
    }
   ],
   "source": [
    "#File: GeneSplicing.py\n",
    "#Coding Challenge II\n",
    "#Authors: Mégane Michaud, Logan Swanson\n",
    "\n",
    "def iterative_wrapper(str1,str2):\n",
    "    if str1\n",
    "    \n",
    "    \n",
    "    forward=geneSplicing(str1,str2)\n",
    "    reverse=geneSplicing(str2,str1)\n",
    "    \n",
    "    if len(forward)<len(reverse): return forward\n",
    "    else: return reverse\n",
    "    \n",
    "\n",
    "def geneSplicing(str1, str2):\n",
    "    string = str1\n",
    "    while len(string)>0:\n",
    "        if string==str2[0:len(string)]:\n",
    "            str1=str1.replace(string, \"\")\n",
    "            return str1 + str2\n",
    "            break\n",
    "        string = string[1:]\n",
    "    return str1+str2\n",
    "\n",
    "def main():\n",
    "    gene1=\"GTA\"\n",
    "    gene2=\"GCTGTACGA\"\n",
    "    print(iterative_wrapper(gene1,gene2))\n",
    "        \n",
    "main()"
   ]
  },
  {
   "cell_type": "code",
   "execution_count": 2,
   "metadata": {
    "collapsed": false
   },
   "outputs": [
    {
     "name": "stdout",
     "output_type": "stream",
     "text": [
      "Input the first gene: AACTT\n",
      "Input the second gene: CTTT\n",
      "********************************************\n",
      "string 1 - AACTT    string 2 - CTTT\n",
      "shortest string that has both as substring\n",
      "AACTTT (length 6)\n",
      "********************************************\n"
     ]
    }
   ],
   "source": [
    "# CSC220 - CC2 Gene splicing\n",
    "# Feb. 8th 2018\n",
    "#Authors: Mégane Michaud, Logan Swanson\n",
    "\n",
    "def gene_splicing(str1, str2):\n",
    "    '''Function splicing the genes until one can be found in the other'''\n",
    "    string = str1\n",
    "    while len(string)>0:\n",
    "        if str2.startswith(string):\n",
    "            str1=str1.replace(string, \"\")\n",
    "            return str1 + str2\n",
    "        string = string[1:]\n",
    "    return(str1 + str2)\n",
    "    \n",
    "def shorter_string(str1,str2):\n",
    "    '''Function comparing the possibilities and keeping the shortest one'''\n",
    "    if str1==str2: # if the genes are identical\n",
    "        shorter= (str1 +\" (length \"+str(len(str1))+\")\")\n",
    "        return print_out(shorter, str1, str2)\n",
    "    elif str1 in str2: # if a gene is in the other one\n",
    "        shorter= (str2 +\" (length \"+str(len(str2))+\")\")\n",
    "        return print_out(shorter, str1, str2)\n",
    "    elif str2 in str1: # idem\n",
    "        shorter= (str1 +\" (length \"+str(len(str1))+\")\")\n",
    "        return print_out(shorter, str1, str2)\n",
    "        \n",
    "    option1 = gene_splicing(str1, str2) # splicing only done if the previous cases were false\n",
    "    option2= gene_splicing(str2, str1)\n",
    "    if len(option1) < len(option2):\n",
    "        shorter= (option1 +\" (length \"+str(len(option1))+\")\")\n",
    "    elif len(option2) < len(option1):\n",
    "        shorter= (option2 +\" (length \"+str(len(option2))+\")\")\n",
    "    else:\n",
    "        shorter= (option1+\" and \"+option2 +\" (length \"+str(len(option2))+\")\")\n",
    "    return print_out(shorter, str1, str2)\n",
    "    \n",
    "def print_out(shorter, str1, str2):   \n",
    "    '''Function printing out the results'''\n",
    "    print (\"********************************************\")\n",
    "    print (\"string 1 - \"+str1+\"    string 2 - \"+str2)\n",
    "    print(\"shortest string that has both as substring\")\n",
    "    print(shorter)\n",
    "    print (\"********************************************\")  \n",
    "      \n",
    "\n",
    "def main():\n",
    "    '''Main function'''\n",
    "    string1 = input(\"Input the first gene: \")      \n",
    "    string2 = input(\"Input the second gene: \")  \n",
    "    shorter_string(string1, string2)\n",
    "  \n",
    "main()"
   ]
  },
  {
   "cell_type": "code",
   "execution_count": 12,
   "metadata": {
    "collapsed": false
   },
   "outputs": [
    {
     "name": "stdout",
     "output_type": "stream",
     "text": [
      " TCCAAT\n",
      " AATCGT\n"
     ]
    }
   ],
   "source": [
    "debug=False\n",
    "level=0\n",
    "\n",
    "def printdecorator(func):\n",
    "    def wrapper(*args, **kwargs):\n",
    "        return func(level*\"\\t\",*args, **kwargs)\n",
    "    return wrapper\n",
    "\n",
    "if debug: print = printdecorator(print)\n",
    "\n",
    "def printdebugger(func):\n",
    "    if not debug: return func\n",
    "    def wrapper(*args, **kwargs):\n",
    "        global level\n",
    "        print(\"Enter function: \"+func.__name__+str(args))\n",
    "        level+=1\n",
    "        results=func(*args,**kwargs)\n",
    "        level-=1\n",
    "        print(\"Exit function: \"+func.__name__)\n",
    "        return results\n",
    "    return wrapper\n",
    "\n",
    "@printdebugger      \n",
    "def wrapper(gene1, gene2):\n",
    "    '''wrapper for genesplicer that cuts strings down to matching lengths'''\n",
    "    if len(gene1)==len(gene2): return recursive_splicing(gene1,gene2)\n",
    "    elif len(gene1)>len(gene2):\n",
    "        forward=gene1[:-len(gene2)]+recursive_splicing(gene1[-len(gene2):],gene2)\n",
    "        reverse=recursive_splicing(gene2,gene1[:len(gene2)])+gene1[len(gene2):]\n",
    "    else:\n",
    "        forward=recursive_splicing(gene1,gene2[:len(gene1)])+gene2[len(gene1):]\n",
    "        reverse=gene2[:-len(gene1)]+recursive_splicing(gene2[-len(gene1):],gene1)\n",
    "        \n",
    "    if len(forward)<len(reverse): return forward\n",
    "    else: return reverse\n",
    "    \n",
    "@printdebugger\n",
    "def recursive_splicing(gene1, gene2):\n",
    "    '''takes two strings of the same length and returns the splicing'''\n",
    "    if gene1==gene2: return gene1\n",
    "    if len(gene1)<=1: return gene1+gene2\n",
    "    else:\n",
    "        return gene1[0] + recursive_splicing(gene1[1:],gene2[:-1]) + gene2[-1]\n",
    "        \n",
    "        \n",
    "def main():\n",
    "    gene1=\"TCC\"\n",
    "    gene2=\"AAT\"\n",
    "    print(wrapper(gene1,gene2))\n",
    "    \n",
    "    gene1=\"AA\"\n",
    "    gene2=\"AATCGT\"\n",
    "    print(wrapper(gene1,gene2))\n",
    "    \n",
    "main()"
   ]
  },
  {
   "cell_type": "code",
   "execution_count": 13,
   "metadata": {
    "collapsed": false
   },
   "outputs": [
    {
     "name": "stdout",
     "output_type": "stream",
     "text": [
      " AATCC\n",
      " AATCGT\n"
     ]
    }
   ],
   "source": [
    "debug=False\n",
    "level=0\n",
    "\n",
    "def printdecorator(func):\n",
    "    def wrapper(*args, **kwargs):\n",
    "        return func(level*\"\\t\",*args, **kwargs)\n",
    "    return wrapper\n",
    "\n",
    "if debug: print = printdecorator(print)\n",
    "\n",
    "def printdebugger(func):\n",
    "    if not debug: return func\n",
    "    def wrapper(*args, **kwargs):\n",
    "        global level\n",
    "        print(\"Enter function: \"+func.__name__+str(args))\n",
    "        level+=1\n",
    "        results=func(*args,**kwargs)\n",
    "        level-=1\n",
    "        print(\"Exit function: \"+func.__name__)\n",
    "        return results\n",
    "    return wrapper\n",
    "\n",
    "@printdebugger      \n",
    "def wrapper(gene1, gene2):\n",
    "    '''wrapper for genesplicer that cuts strings down to matching lengths'''\n",
    "    if len(gene1)>len(gene2):\n",
    "        forward=gene1[:-len(gene2)]+recursive_splicing(gene1[-len(gene2):],gene2)\n",
    "        reverse=recursive_splicing(gene2,gene1[:len(gene2)])+gene1[len(gene2):]\n",
    "    else:\n",
    "        forward=recursive_splicing(gene1,gene2[:len(gene1)])+gene2[len(gene1):]\n",
    "        reverse=gene2[:-len(gene1)]+recursive_splicing(gene2[-len(gene1):],gene1)\n",
    "        \n",
    "    if len(forward)<len(reverse): return forward\n",
    "    else: return reverse\n",
    "    \n",
    "@printdebugger\n",
    "def recursive_splicing(gene1, gene2):\n",
    "    '''takes two strings of the same length and returns the splicing'''\n",
    "    if gene1==gene2: return gene1\n",
    "    if len(gene1)<=1: return gene1+gene2\n",
    "    else:\n",
    "        return gene1[0] + recursive_splicing(gene1[1:],gene2[:-1]) + gene2[-1]\n",
    "        \n",
    "        \n",
    "def main():\n",
    "    gene1=\"TCC\"\n",
    "    gene2=\"AAT\"\n",
    "    print(wrapper(gene1,gene2))\n",
    "    \n",
    "    gene1=\"AA\"\n",
    "    gene2=\"AATCGT\"\n",
    "    print(wrapper(gene1,gene2))\n",
    "    \n",
    "main()"
   ]
  }
 ],
 "metadata": {
  "kernelspec": {
   "display_name": "Python 3",
   "language": "python",
   "name": "python3"
  },
  "language_info": {
   "codemirror_mode": {
    "name": "ipython",
    "version": 3
   },
   "file_extension": ".py",
   "mimetype": "text/x-python",
   "name": "python",
   "nbconvert_exporter": "python",
   "pygments_lexer": "ipython3",
   "version": "3.5.4"
  }
 },
 "nbformat": 4,
 "nbformat_minor": 0
}
