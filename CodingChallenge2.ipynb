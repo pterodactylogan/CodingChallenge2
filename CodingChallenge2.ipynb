{
 "cells": [
  {
   "cell_type": "markdown",
   "metadata": {},
   "source": [
    "# Coding Challenge 2 "
   ]
  },
  {
   "cell_type": "markdown",
   "metadata": {},
   "source": [
    "### Mégane Michaud and Logan Swanson "
   ]
  },
  {
   "cell_type": "code",
   "execution_count": 1,
   "metadata": {
    "collapsed": true
   },
   "outputs": [],
   "source": [
    "def iterative_wrapper(str1,str2):\n",
    "\t'''returns the shortest string such that both str1 and str2 are substrings'''\n",
    "    #check both directions\n",
    "\tforward=iterative_splicing(str1,str2)\n",
    "\treverse=iterative_splicing(str2,str1)\n",
    "\t\n",
    "\tif len(forward)<len(reverse): \n",
    "\t\treturn forward\n",
    "\telse: \n",
    "\t\treturn reverse\n",
    "    \n",
    "\n",
    "def iterative_splicing(str1, str2):\n",
    "\t'''takes two strings and returns the string resulting from their maximum amount of overlap'''\n",
    "    #if str1 is already a substring of str2, DONE\n",
    "\tif str1 in str2: return str2\n",
    "\tstring = str1\n",
    "\twhile len(string)>0:\n",
    "        #overlap found\n",
    "\t\tif string==str2[0:len(string)]:\n",
    "\t\t\tstr1=str1.replace(string, \"\",1)\n",
    "\t\t\treturn str1 + str2\n",
    "\t\tstring = string[1:]\n",
    "    #no overlap found--just conjoin\n",
    "\treturn str1+str2"
   ]
  },
  {
   "cell_type": "code",
   "execution_count": 2,
   "metadata": {
    "collapsed": true
   },
   "outputs": [],
   "source": [
    "\n",
    "def recursive_wrapper(gene1, gene2):\n",
    "    '''wrapper for genesplicer that cuts strings down to matching lengths'''\n",
    "    #if one is already a substring of the other, DONE\n",
    "    if gene1 in gene2: \n",
    "        return gene2\n",
    "    if gene2 in gene1: \n",
    "        return gene1\n",
    "    \n",
    "    #clean up strings so they are same length\n",
    "    if len(gene1)==len(gene2): \n",
    "        forward= recursive_splicing(gene1,gene2)\n",
    "        reverse=recursive_splicing(gene2,gene1)\n",
    "    elif len(gene1)>len(gene2):\n",
    "        forward=gene1[:-len(gene2)]+recursive_splicing(gene1[-len(gene2):],gene2)\n",
    "        reverse=recursive_splicing(gene2,gene1[:len(gene2)])+gene1[len(gene2):]\n",
    "    else:\n",
    "        forward=recursive_splicing(gene1,gene2[:len(gene1)])+gene2[len(gene1):]\n",
    "        reverse=gene2[:-len(gene1)]+recursive_splicing(gene2[-len(gene1):],gene1)\n",
    "      \n",
    "    #select shortest result\n",
    "    if len(forward)<len(reverse):\n",
    "        return forward\n",
    "    else: \n",
    "        return reverse\n",
    "    \n",
    "def recursive_splicing(gene1, gene2):\n",
    "    '''takes two strings of the same length and returns the splicing'''\n",
    "    #base case: complete overlap\n",
    "    if gene1==gene2: return gene1\n",
    "    #base case: reached end of string\n",
    "    if len(gene1)<=1: return gene1+gene2\n",
    "    #recursive case: chop end character off each string and recurse\n",
    "    else:\n",
    "        return gene1[0] + recursive_splicing(gene1[1:],gene2[:-1]) + gene2[-1]"
   ]
  },
  {
   "cell_type": "code",
   "execution_count": 30,
   "metadata": {
    "collapsed": true
   },
   "outputs": [],
   "source": [
    "import random\n",
    "def generate_string(maxLen):\n",
    "    chars=['A','C','T','G']\n",
    "    length=random.randint(1,maxLen)\n",
    "    result=\"\"\n",
    "    for i in range(length):\n",
    "        result+=chars[random.randint(0,3)]\n",
    "    return result"
   ]
  },
  {
   "cell_type": "code",
   "execution_count": 34,
   "metadata": {
    "collapsed": false
   },
   "outputs": [],
   "source": [
    "numStrings=500\n",
    "maxLen=40\n",
    "strings=[]\n",
    "for i in range(numStrings):\n",
    "    strings.append(generate_string(maxLen))"
   ]
  },
  {
   "cell_type": "code",
   "execution_count": 35,
   "metadata": {
    "collapsed": false
   },
   "outputs": [
    {
     "name": "stdout",
     "output_type": "stream",
     "text": [
      "CPU times: user 2 µs, sys: 0 ns, total: 2 µs\n",
      "Wall time: 5.01 µs\n"
     ]
    }
   ],
   "source": [
    "%time\n",
    "for str1 in strings:\n",
    "    for str2 in strings:\n",
    "        iterative_wrapper(str1,str2)"
   ]
  },
  {
   "cell_type": "code",
   "execution_count": 36,
   "metadata": {
    "collapsed": false
   },
   "outputs": [
    {
     "name": "stdout",
     "output_type": "stream",
     "text": [
      "CPU times: user 2 µs, sys: 0 ns, total: 2 µs\n",
      "Wall time: 5.01 µs\n"
     ]
    }
   ],
   "source": [
    "%time\n",
    "for str1 in strings:\n",
    "    for str2 in strings:\n",
    "        recursive_wrapper(str1,str2)"
   ]
  }
 ],
 "metadata": {
  "kernelspec": {
   "display_name": "Python 3",
   "language": "python",
   "name": "python3"
  },
  "language_info": {
   "codemirror_mode": {
    "name": "ipython",
    "version": 3
   },
   "file_extension": ".py",
   "mimetype": "text/x-python",
   "name": "python",
   "nbconvert_exporter": "python",
   "pygments_lexer": "ipython3",
   "version": "3.5.4"
  }
 },
 "nbformat": 4,
 "nbformat_minor": 1
}
